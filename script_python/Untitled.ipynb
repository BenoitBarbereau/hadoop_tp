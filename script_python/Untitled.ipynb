{
 "cells": [
  {
   "cell_type": "raw",
   "id": "d3115021",
   "metadata": {},
   "source": [
    " Vous devez implémenter l'algorithme de parcours de graphes vu en cours.\n",
    " \n",
    "● Il sera nécessaire pour cette tâche d'exécuter plusieurs fois le même \n",
    "programme map/reduce, en lui passant à chaque fois en données d'entrée les \n",
    "données de sortie de l'exécution précédente, et ce jusqu'à ce qu'une condition \n",
    "soit respectée.\n",
    "● Les slides suivantes donnent quelques pistes concernant l'API hadoop pour \n",
    "des fonctions non vues en cours.\n",
    "● Vous pouvez télécharger et extraire les données d'entrée via les commandes:\n",
    "wget http://cours.tokidev.fr/bigdata/tps/graph_input.txt\n",
    "\n",
    "\n",
    "● Notez bien le format d’entrée du fichier initial.\n",
    "● Celui-ci respecte le format clef;valeur Hadoop standard: une clef, suivie d’une \n",
    "tabulation, suivie d’une valeur.\n",
    "● Afin d’éviter que Hadoop ne passe chaque ligne d’entrée initiale comme un \n",
    "couple clef;valeur dont la clef est le numéro de ligne dans le fichier texte, il \n",
    "sera donc nécessaire de modifier le type d’InputFormat en conséquence.\n",
    "● Le type a utilisé est un type standard Hadoop et a été présenté en cours.\n",
    "\n",
    " A cette première étape, vous devez simplement réaliser l’implémentation de \n",
    "graphes sans implémenter d’InputFormat ou de types spécifiques.\n",
    "● Vous devrez également lire les fichiers résultat sur HDFS dans la classe driver \n",
    "entre chaque exécution, pour déterminer si l'exécution doit continuer ou pas. \n",
    "Vous devez en conséquence rechercher dans la documentation Hadoop \n",
    "comment le faire depuis l'API.\n",
    "● Pour vous aider dans votre recherche, regardez du coté de la classe:\n",
    "org.apache.hadoop.fs.FileSystem\n",
    "● Si votre programme a été rédigé correctement, vous devriez à terme obtenir le même \n",
    "résultat d'exemple que celui vu en cours. Conservez les résultats d'exécution entre \n",
    "chaque lancement, ceci afin de vérifier le déroulement du programme."
   ]
  },
  {
   "cell_type": "code",
   "execution_count": null,
   "id": "8ed943a7",
   "metadata": {},
   "outputs": [],
   "source": []
  }
 ],
 "metadata": {
  "kernelspec": {
   "display_name": "Python 3 (ipykernel)",
   "language": "python",
   "name": "python3"
  },
  "language_info": {
   "codemirror_mode": {
    "name": "ipython",
    "version": 3
   },
   "file_extension": ".py",
   "mimetype": "text/x-python",
   "name": "python",
   "nbconvert_exporter": "python",
   "pygments_lexer": "ipython3",
   "version": "3.7.9"
  }
 },
 "nbformat": 4,
 "nbformat_minor": 5
}
